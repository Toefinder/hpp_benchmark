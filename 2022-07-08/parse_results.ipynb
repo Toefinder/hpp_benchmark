{
 "cells": [
  {
   "cell_type": "code",
   "execution_count": 1,
   "id": "d7c3aa27",
   "metadata": {},
   "outputs": [],
   "source": [
    "from pathlib import Path\n",
    "import datetime\n",
    "import numpy as np\n",
    "import pandas as pd"
   ]
  },
  {
   "cell_type": "code",
   "execution_count": 2,
   "id": "2fcd3c81",
   "metadata": {},
   "outputs": [
    {
     "data": {
      "text/plain": [
       "PosixPath('construction-set/benchmark')"
      ]
     },
     "execution_count": 2,
     "metadata": {},
     "output_type": "execute_result"
    }
   ],
   "source": [
    "benchmark = \"construction-set\"\n",
    "benchmarkfolder = Path(\".\").joinpath(benchmark)\n",
    "file = benchmarkfolder.joinpath(\"benchmark\")\n",
    "file"
   ]
  },
  {
   "cell_type": "code",
   "execution_count": 3,
   "id": "6eef01a0-e87a-4932-8c3f-3737e6d41349",
   "metadata": {},
   "outputs": [
    {
     "data": {
      "text/plain": [
       "datetime.time(0, 0, 10, 917553)"
      ]
     },
     "execution_count": 3,
     "metadata": {},
     "output_type": "execute_result"
    }
   ],
   "source": [
    "t = datetime.datetime.strptime(\"0:00:10.917553\", \"%H:%M:%S.%f\").time()\n",
    "t"
   ]
  },
  {
   "cell_type": "code",
   "execution_count": 4,
   "id": "56e52f7a-6f2d-4099-834f-bb4d11502994",
   "metadata": {},
   "outputs": [
    {
     "data": {
      "text/plain": [
       "datetime.timedelta(seconds=10, microseconds=917553)"
      ]
     },
     "execution_count": 4,
     "metadata": {},
     "output_type": "execute_result"
    }
   ],
   "source": [
    "delta = datetime.timedelta(hours=t.hour, minutes=t.minute, seconds=t.second, microseconds=t.microsecond)\n",
    "delta"
   ]
  },
  {
   "cell_type": "code",
   "execution_count": 5,
   "id": "32ec3c0f-588a-402b-99f0-f9fafec723cd",
   "metadata": {},
   "outputs": [
    {
     "data": {
      "text/plain": [
       "10.917553"
      ]
     },
     "execution_count": 5,
     "metadata": {},
     "output_type": "execute_result"
    }
   ],
   "source": [
    "delta.total_seconds()"
   ]
  },
  {
   "cell_type": "code",
   "execution_count": 6,
   "id": "9adbb886-8c02-4cd1-a95c-54123f6020a0",
   "metadata": {},
   "outputs": [],
   "source": [
    "def parse_time(line: str):\n",
    "    try:\n",
    "        t = datetime.datetime.strptime(line, \"%H:%M:%S.%f\").time()\n",
    "    except ValueError:\n",
    "        return None\n",
    "    return datetime.timedelta(\n",
    "        hours=t.hour, minutes=t.minute, seconds=t.second, microseconds=t.microsecond\n",
    "    ).total_seconds()"
   ]
  },
  {
   "cell_type": "code",
   "execution_count": 7,
   "id": "95f55050-87ff-4713-9842-01dd9a50bc49",
   "metadata": {},
   "outputs": [
    {
     "data": {
      "text/plain": [
       "10.917553"
      ]
     },
     "execution_count": 7,
     "metadata": {},
     "output_type": "execute_result"
    }
   ],
   "source": [
    "parse_time(\"0:00:10.917553\")"
   ]
  },
  {
   "cell_type": "code",
   "execution_count": 8,
   "id": "2bacf54e-300a-4cec-8b14-3f2f2968249e",
   "metadata": {},
   "outputs": [
    {
     "name": "stdout",
     "output_type": "stream",
     "text": [
      "Number nodes\n",
      "208\n"
     ]
    }
   ],
   "source": [
    "k, v = \"Number nodes: 208\".strip().split(':')\n",
    "print(k)\n",
    "print(int(v.strip()))"
   ]
  },
  {
   "cell_type": "code",
   "execution_count": 12,
   "id": "5927e270-f60a-41cd-be8e-84f608c09c71",
   "metadata": {},
   "outputs": [],
   "source": [
    "def parse_numnode(line:str):\n",
    "    return int(line.strip().split(':', 1)[1].strip())"
   ]
  },
  {
   "cell_type": "code",
   "execution_count": 13,
   "id": "ddfdd297-a43b-450d-a718-9d650c236bb4",
   "metadata": {},
   "outputs": [
    {
     "data": {
      "text/plain": [
       "208"
      ]
     },
     "execution_count": 13,
     "metadata": {},
     "output_type": "execute_result"
    }
   ],
   "source": [
    "parse_numnode(\"Number nodes: 208\")"
   ]
  },
  {
   "cell_type": "code",
   "execution_count": 22,
   "id": "313415c8",
   "metadata": {},
   "outputs": [],
   "source": [
    "def parse_file(file):\n",
    "    timelist = []\n",
    "    numnodelist = []\n",
    "    with file.open(\"r\") as f:\n",
    "        for line in f.readlines():\n",
    "            if \"#\" in line:\n",
    "                break\n",
    "            if \"Failed to plan path\" in line:\n",
    "                continue\n",
    "            line = line.strip()\n",
    "            t = parse_time(line)\n",
    "            if not t:\n",
    "                numnodelist.append(parse_numnode(line))\n",
    "            else:\n",
    "                timelist.append(t)\n",
    "    return timelist, numnodelist"
   ]
  },
  {
   "cell_type": "code",
   "execution_count": 23,
   "id": "fc4a0c07-c74d-487e-b7f9-c10089ab3c87",
   "metadata": {},
   "outputs": [],
   "source": [
    "timelist, numnodelist = parse_file(file)"
   ]
  },
  {
   "cell_type": "code",
   "execution_count": 25,
   "id": "a62daf9d-0406-4e1c-b2af-f187d3080add",
   "metadata": {},
   "outputs": [
    {
     "name": "stdout",
     "output_type": "stream",
     "text": [
      "51.10097526\n",
      "1024.38\n"
     ]
    }
   ],
   "source": [
    "print(np.average(timelist))\n",
    "print(np.average(numnodelist))"
   ]
  },
  {
   "cell_type": "code",
   "execution_count": 26,
   "id": "eb8e3c3c-5691-4a6b-8f8b-0602cb4de5bf",
   "metadata": {},
   "outputs": [
    {
     "data": {
      "text/plain": [
       "PosixPath('construction-set/benchmark.csv')"
      ]
     },
     "execution_count": 26,
     "metadata": {},
     "output_type": "execute_result"
    }
   ],
   "source": [
    "csvfile = benchmarkfolder.joinpath(\"benchmark.csv\")\n",
    "csvfile"
   ]
  },
  {
   "cell_type": "code",
   "execution_count": 27,
   "id": "3c31b5f6-9f48-43f8-b669-8628b39fdf1d",
   "metadata": {},
   "outputs": [],
   "source": [
    "listdict = {'Solving time (s)': timelist, 'Number of nodes': numnodelist}\n",
    "df = pd.DataFrame(listdict) \n",
    "df.to_csv(csvfile, index=False)"
   ]
  },
  {
   "cell_type": "code",
   "execution_count": 28,
   "id": "c5ee45f1-6f6c-4fe0-b912-30ffa29635c3",
   "metadata": {},
   "outputs": [
    {
     "data": {
      "text/plain": [
       "PosixPath('construction-set')"
      ]
     },
     "execution_count": 28,
     "metadata": {},
     "output_type": "execute_result"
    }
   ],
   "source": [
    "benchmarkfolder"
   ]
  },
  {
   "cell_type": "code",
   "execution_count": 29,
   "id": "2176debd-c75a-454f-bd32-6043895c7ceb",
   "metadata": {},
   "outputs": [
    {
     "data": {
      "text/plain": [
       "PosixPath('.')"
      ]
     },
     "execution_count": 29,
     "metadata": {},
     "output_type": "execute_result"
    }
   ],
   "source": [
    "currentfolder = Path(\".\")\n",
    "currentfolder"
   ]
  },
  {
   "cell_type": "code",
   "execution_count": 30,
   "id": "dcf5de68-d4fe-4738-81c2-57b1f7830604",
   "metadata": {},
   "outputs": [
    {
     "data": {
      "text/plain": [
       "[PosixPath('baxter-manipulation-boxes'),\n",
       " PosixPath('pr2-manipulation-kitchen-spf'),\n",
       " PosixPath('romeo-placard'),\n",
       " PosixPath('ur3-spheres-spf'),\n",
       " PosixPath('baxter-manipulation-boxes-spf'),\n",
       " PosixPath('pr2-in-iai-kitchen'),\n",
       " PosixPath('pyrene-on-the-ground'),\n",
       " PosixPath('pr2-manipulation-two-hand'),\n",
       " PosixPath('ur3-spheres'),\n",
       " PosixPath('pr2-manipulation-two-hand-spf'),\n",
       " PosixPath('romeo-placard-spf'),\n",
       " PosixPath('construction-set-spf'),\n",
       " PosixPath('pr2-manipulation-kitchen'),\n",
       " PosixPath('construction-set')]"
      ]
     },
     "execution_count": 30,
     "metadata": {},
     "output_type": "execute_result"
    }
   ],
   "source": [
    "benchmarkfolderlist = [f for f in currentfolder.iterdir() if f.is_dir() and \".ipynb\" not in f.stem]\n",
    "benchmarkfolderlist"
   ]
  },
  {
   "cell_type": "code",
   "execution_count": 31,
   "id": "03adec1e-3cf4-4e21-9fd9-31b8020dfefc",
   "metadata": {},
   "outputs": [
    {
     "data": {
      "text/plain": [
       "[PosixPath('construction-set/benchmark')]"
      ]
     },
     "execution_count": 31,
     "metadata": {},
     "output_type": "execute_result"
    }
   ],
   "source": [
    "[f for f in benchmarkfolder.iterdir() if f.is_file() and not f.suffix]"
   ]
  },
  {
   "cell_type": "code",
   "execution_count": 32,
   "id": "32e15b7e-e91d-475c-9cb9-72c94934488a",
   "metadata": {},
   "outputs": [
    {
     "data": {
      "text/plain": [
       "'benchmark'"
      ]
     },
     "execution_count": 32,
     "metadata": {},
     "output_type": "execute_result"
    }
   ],
   "source": [
    "f = next(benchmarkfolder.iterdir())\n",
    "f.stem"
   ]
  },
  {
   "cell_type": "code",
   "execution_count": 33,
   "id": "64e4e29d-ec36-44a6-a7b4-488bb5c1a85b",
   "metadata": {},
   "outputs": [],
   "source": [
    "currentfolder = Path(\".\")\n",
    "benchmarkfolderlist = [f for f in currentfolder.iterdir() if f.is_dir() and \".ipynb\" not in str(f)]\n",
    "for benchmarkfolder in benchmarkfolderlist:\n",
    "    filelist = [f for f in benchmarkfolder.iterdir() if f.is_file() and not f.suffix]\n",
    "    for file in filelist:\n",
    "        timelist, numnodelist = parse_file(file)\n",
    "        listdict = {'Solving time (s)': timelist, 'Number of nodes': numnodelist}\n",
    "        csvfile = benchmarkfolder.joinpath(file.name).with_suffix(\".csv\")\n",
    "        df = pd.DataFrame(listdict) \n",
    "        df.to_csv(csvfile, index=False)"
   ]
  },
  {
   "cell_type": "code",
   "execution_count": null,
   "id": "1381402d-0be8-47be-b9c5-b5e841d38057",
   "metadata": {},
   "outputs": [],
   "source": []
  }
 ],
 "metadata": {
  "kernelspec": {
   "display_name": "Python 3",
   "language": "python",
   "name": "python3"
  },
  "language_info": {
   "codemirror_mode": {
    "name": "ipython",
    "version": 3
   },
   "file_extension": ".py",
   "mimetype": "text/x-python",
   "name": "python",
   "nbconvert_exporter": "python",
   "pygments_lexer": "ipython3",
   "version": "3.8.10"
  }
 },
 "nbformat": 4,
 "nbformat_minor": 5
}
